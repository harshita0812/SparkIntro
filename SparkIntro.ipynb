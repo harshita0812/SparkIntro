{
 "cells": [
  {
   "cell_type": "markdown",
   "id": "c2c137e3-03c1-4ea0-8c6e-72bc58ead597",
   "metadata": {},
   "source": [
    "## Setup"
   ]
  },
  {
   "cell_type": "code",
   "execution_count": 1,
   "id": "ee5bad1a-b507-41de-9b43-80c4e340bd6b",
   "metadata": {
    "tags": []
   },
   "outputs": [
    {
     "name": "stdout",
     "output_type": "stream",
     "text": [
      "Collecting pyspark\n",
      "  Downloading pyspark-3.4.1.tar.gz (310.8 MB)\n",
      "\u001b[2K     \u001b[90m━━━━━━━━━━━━━━━━━━━━━━━━━━━━━━━━━━━━━━━\u001b[0m \u001b[32m310.8/310.8 MB\u001b[0m \u001b[31m1.7 MB/s\u001b[0m eta \u001b[36m0:00:00\u001b[0m00:01\u001b[0m00:01\u001b[0m\n",
      "\u001b[?25h  Preparing metadata (setup.py) ... \u001b[?25ldone\n",
      "\u001b[?25hCollecting py4j==0.10.9.7 (from pyspark)\n",
      "  Downloading py4j-0.10.9.7-py2.py3-none-any.whl (200 kB)\n",
      "\u001b[2K     \u001b[90m━━━━━━━━━━━━━━━━━━━━━━━━━━━━━━━━━━━━━━\u001b[0m \u001b[32m200.5/200.5 kB\u001b[0m \u001b[31m23.5 MB/s\u001b[0m eta \u001b[36m0:00:00\u001b[0m\n",
      "\u001b[?25hBuilding wheels for collected packages: pyspark\n",
      "  Building wheel for pyspark (setup.py) ... \u001b[?25ldone\n",
      "\u001b[?25h  Created wheel for pyspark: filename=pyspark-3.4.1-py2.py3-none-any.whl size=311285398 sha256=b6acbd459b1e2fbf04e1c46db686dfc2f51d14abebebfb3176ab07f2e1276c80\n",
      "  Stored in directory: /home/jupyterlab/.cache/pip/wheels/b7/8e/8f/ba5d017af5f502964eb1358e1d496a8519de1645936b01810e\n",
      "Successfully built pyspark\n",
      "Installing collected packages: py4j, pyspark\n",
      "Successfully installed py4j-0.10.9.7 pyspark-3.4.1\n",
      "Collecting findspark\n",
      "  Downloading findspark-2.0.1-py2.py3-none-any.whl (4.4 kB)\n",
      "Installing collected packages: findspark\n",
      "Successfully installed findspark-2.0.1\n"
     ]
    }
   ],
   "source": [
    "!pip install pyspark\n",
    "!pip install findspark"
   ]
  },
  {
   "cell_type": "code",
   "execution_count": 2,
   "id": "be0dbdec-bc72-4683-88b1-0b9b3700e42c",
   "metadata": {
    "tags": []
   },
   "outputs": [],
   "source": [
    "import findspark\n",
    "findspark.init()"
   ]
  },
  {
   "cell_type": "code",
   "execution_count": 5,
   "id": "54465217-dc77-4d4d-a203-545c05428442",
   "metadata": {
    "tags": []
   },
   "outputs": [],
   "source": [
    "from pyspark import SparkContext, SparkConf\n",
    "from pyspark.sql import SparkSession"
   ]
  },
  {
   "cell_type": "markdown",
   "id": "c67c4329-a10d-4dec-bcb4-3b1e671e9681",
   "metadata": {},
   "source": [
    "## Initialize Spark Session"
   ]
  },
  {
   "cell_type": "code",
   "execution_count": 10,
   "id": "504af985-44e0-45bc-9788-64a8369cf11c",
   "metadata": {
    "tags": []
   },
   "outputs": [],
   "source": [
    "sc = SparkContext()\n",
    "spark = SparkSession \\\n",
    "    .builder \\\n",
    "    .appName(\"Python Spark DataFrames basic example\") \\\n",
    "    .config(\"spark.some.config.option\", \"some-value\") \\\n",
    "    .getOrCreate()"
   ]
  },
  {
   "cell_type": "code",
   "execution_count": 11,
   "id": "878427c7-53d9-498b-8bf0-13ec25d28e0a",
   "metadata": {
    "tags": []
   },
   "outputs": [
    {
     "data": {
      "text/html": [
       "\n",
       "            <div>\n",
       "                <p><b>SparkSession - in-memory</b></p>\n",
       "                \n",
       "        <div>\n",
       "            <p><b>SparkContext</b></p>\n",
       "\n",
       "            <p><a href=\"http://jupyterlab-harshita0812:4040\">Spark UI</a></p>\n",
       "\n",
       "            <dl>\n",
       "              <dt>Version</dt>\n",
       "                <dd><code>v2.4.3</code></dd>\n",
       "              <dt>Master</dt>\n",
       "                <dd><code>local[*]</code></dd>\n",
       "              <dt>AppName</dt>\n",
       "                <dd><code>pyspark-shell</code></dd>\n",
       "            </dl>\n",
       "        </div>\n",
       "        \n",
       "            </div>\n",
       "        "
      ],
      "text/plain": [
       "<pyspark.sql.session.SparkSession at 0x7fb3d7cc7590>"
      ]
     },
     "execution_count": 11,
     "metadata": {},
     "output_type": "execute_result"
    }
   ],
   "source": [
    "spark"
   ]
  },
  {
   "cell_type": "markdown",
   "id": "9572f8d9-df19-4617-ad60-0674c54ffd0f",
   "metadata": {},
   "source": [
    "## Parallelize data"
   ]
  },
  {
   "cell_type": "code",
   "execution_count": 18,
   "id": "246ed90f-58ae-4f99-8154-5a2f8a0635e0",
   "metadata": {
    "tags": []
   },
   "outputs": [
    {
     "data": {
      "text/plain": [
       "PythonRDD[12] at RDD at PythonRDD.scala:53"
      ]
     },
     "execution_count": 18,
     "metadata": {},
     "output_type": "execute_result"
    }
   ],
   "source": [
    "data= range(1,30)\n",
    "xrangeRDD=sc.parallelize(data, 4)\n",
    "xrangeRDD"
   ]
  },
  {
   "cell_type": "markdown",
   "id": "7e0acd84-8e1d-4259-b987-1dfcad256f45",
   "metadata": {},
   "source": [
    "## Transformation in RDD"
   ]
  },
  {
   "cell_type": "code",
   "execution_count": 19,
   "id": "35e7f8fe-0abc-4d3b-883b-d533ff9c17ee",
   "metadata": {
    "tags": []
   },
   "outputs": [],
   "source": [
    "subRDD= xrangeRDD.map(lambda x:x-1)\n",
    "filerRDD=xrangeRDD.filter(lambda x:x<10)"
   ]
  },
  {
   "cell_type": "markdown",
   "id": "8baedac3-560c-47f5-a0d4-59f9ec3cbaa4",
   "metadata": {},
   "source": [
    "## Action"
   ]
  },
  {
   "cell_type": "code",
   "execution_count": 22,
   "id": "65ed2ab1-6c9a-4023-8203-e118b716ec94",
   "metadata": {
    "tags": []
   },
   "outputs": [
    {
     "name": "stdout",
     "output_type": "stream",
     "text": [
      "[0, 1, 2, 3, 4, 5, 6, 7, 8, 9, 10, 11, 12, 13, 14, 15, 16, 17, 18, 19, 20, 21, 22, 23, 24, 25, 26, 27, 28]\n"
     ]
    },
    {
     "data": {
      "text/plain": [
       "[1, 2, 3, 4, 5, 6, 7, 8, 9]"
      ]
     },
     "execution_count": 22,
     "metadata": {},
     "output_type": "execute_result"
    }
   ],
   "source": [
    "print(subRDD.collect())\n",
    "filerRDD.collect()\n"
   ]
  },
  {
   "cell_type": "markdown",
   "id": "b720285c-489f-4bb0-bd30-77fbf6421316",
   "metadata": {},
   "source": [
    "## Cache"
   ]
  },
  {
   "cell_type": "code",
   "execution_count": 38,
   "id": "1bf486c1-eae5-4269-97df-edd47c803516",
   "metadata": {
    "tags": []
   },
   "outputs": [
    {
     "name": "stdout",
     "output_type": "stream",
     "text": [
      "49999\n",
      "0.35214805603027344\n",
      "49999\n",
      "0.14197826385498047\n"
     ]
    }
   ],
   "source": [
    "import time\n",
    "testRDD= sc.parallelize(range(1, 50000), 4)\n",
    "testRDD.cache()\n",
    "\n",
    "t1=time.time()\n",
    "count1=testRDD.count()\n",
    "print(count1)\n",
    "dt1=time.time()-t1\n",
    "print(dt1)\n",
    "\n",
    "t2=time.time()\n",
    "count2=testRDD.count()\n",
    "print(count2)\n",
    "dt2=time.time()-t2\n",
    "print(dt2)\n"
   ]
  },
  {
   "cell_type": "markdown",
   "id": "6e309a34-42ed-49fb-8588-e09fb996e802",
   "metadata": {},
   "source": [
    "## Download people.json"
   ]
  },
  {
   "cell_type": "code",
   "execution_count": 39,
   "id": "1c3186c9-bad5-40d1-9e33-b805d775231c",
   "metadata": {
    "tags": []
   },
   "outputs": [
    {
     "name": "stdout",
     "output_type": "stream",
     "text": [
      "  % Total    % Received % Xferd  Average Speed   Time    Time     Time  Current\n",
      "                                 Dload  Upload   Total   Spent    Left  Speed\n",
      "100    73  100    73    0     0    820      0 --:--:-- --:--:-- --:--:--   820\n"
     ]
    }
   ],
   "source": [
    "\n",
    "\n",
    "!curl https://cf-courses-data.s3.us.cloud-object-storage.appdomain.cloud/IBM-BD0225EN-SkillsNetwork/labs/data/people.json >> people.json\n",
    "\n"
   ]
  },
  {
   "cell_type": "markdown",
   "id": "3918c419-92d5-4b1d-9868-fd76f4b1bf6a",
   "metadata": {},
   "source": [
    "## Create Dataframe"
   ]
  },
  {
   "cell_type": "code",
   "execution_count": 40,
   "id": "a519d24b-9069-4185-be10-08e041494522",
   "metadata": {
    "tags": []
   },
   "outputs": [],
   "source": [
    "df=spark.read.json(\"people.json\").cache()"
   ]
  },
  {
   "cell_type": "code",
   "execution_count": 43,
   "id": "a7149d84-7489-41fe-8cd3-a9db0ae96848",
   "metadata": {
    "tags": []
   },
   "outputs": [
    {
     "name": "stdout",
     "output_type": "stream",
     "text": [
      "+----+-------+\n",
      "| age|   name|\n",
      "+----+-------+\n",
      "|null|Michael|\n",
      "|  30|   Andy|\n",
      "|  19| Justin|\n",
      "+----+-------+\n",
      "\n",
      "root\n",
      " |-- age: long (nullable = true)\n",
      " |-- name: string (nullable = true)\n",
      "\n"
     ]
    }
   ],
   "source": [
    "df.show()\n",
    "df.printSchema()"
   ]
  },
  {
   "cell_type": "code",
   "execution_count": 44,
   "id": "556dc4dc-5495-4c00-8970-f687f5b8f9f1",
   "metadata": {
    "tags": []
   },
   "outputs": [],
   "source": [
    "df.createTempView(\"people\")"
   ]
  },
  {
   "cell_type": "markdown",
   "id": "59ec58fc-4302-4ae2-a29f-e413999f062d",
   "metadata": {},
   "source": [
    "## Perform Queries using Spark SQL"
   ]
  },
  {
   "cell_type": "code",
   "execution_count": 51,
   "id": "516ddfa9-03e0-42c8-a562-9103fd4177e9",
   "metadata": {
    "tags": []
   },
   "outputs": [
    {
     "name": "stdout",
     "output_type": "stream",
     "text": [
      "+-------+\n",
      "|   name|\n",
      "+-------+\n",
      "|Michael|\n",
      "|   Andy|\n",
      "| Justin|\n",
      "+-------+\n",
      "\n",
      "+-------+\n",
      "|   name|\n",
      "+-------+\n",
      "|Michael|\n",
      "|   Andy|\n",
      "| Justin|\n",
      "+-------+\n",
      "\n",
      "+----+-------+\n",
      "| age|   name|\n",
      "+----+-------+\n",
      "|null|Michael|\n",
      "|  30|   Andy|\n",
      "|  19| Justin|\n",
      "+----+-------+\n",
      "\n",
      "+----------+\n",
      "|(age > 10)|\n",
      "+----------+\n",
      "|      null|\n",
      "|      true|\n",
      "|      true|\n",
      "+----------+\n",
      "\n"
     ]
    },
    {
     "name": "stderr",
     "output_type": "stream",
     "text": [
      "                                                                                \r"
     ]
    },
    {
     "name": "stdout",
     "output_type": "stream",
     "text": [
      "+----+-----+\n",
      "| age|count|\n",
      "+----+-----+\n",
      "|  19|    1|\n",
      "|null|    1|\n",
      "|  30|    1|\n",
      "+----+-----+\n",
      "\n"
     ]
    }
   ],
   "source": [
    "df.select(\"name\").show()\n",
    "df.select(df[\"name\"]).show()\n",
    "spark.sql(\"select * from people\").show()\n",
    "df.select(df[\"age\"]>10).show()\n",
    "df.groupby(\"age\").count().show()"
   ]
  },
  {
   "cell_type": "markdown",
   "id": "a3d46642-e13e-4c5e-b7b8-d15de38ee15a",
   "metadata": {},
   "source": [
    "## Create RDD of range 1 to 50 and multiply by 2"
   ]
  },
  {
   "cell_type": "code",
   "execution_count": 54,
   "id": "b12e2ac9-edf3-4479-be4b-2eb8f72cc940",
   "metadata": {
    "tags": []
   },
   "outputs": [],
   "source": [
    "practiceRDD=sc.parallelize(range(1, 50), 4)\n",
    "mul=practiceRDD.map(lambda x: x*2)\n"
   ]
  },
  {
   "cell_type": "code",
   "execution_count": 57,
   "id": "9c89b8e9-dd41-415a-b079-6d7c8f60725f",
   "metadata": {
    "tags": []
   },
   "outputs": [
    {
     "data": {
      "text/plain": [
       "[2,\n",
       " 4,\n",
       " 6,\n",
       " 8,\n",
       " 10,\n",
       " 12,\n",
       " 14,\n",
       " 16,\n",
       " 18,\n",
       " 20,\n",
       " 22,\n",
       " 24,\n",
       " 26,\n",
       " 28,\n",
       " 30,\n",
       " 32,\n",
       " 34,\n",
       " 36,\n",
       " 38,\n",
       " 40,\n",
       " 42,\n",
       " 44,\n",
       " 46,\n",
       " 48,\n",
       " 50,\n",
       " 52,\n",
       " 54,\n",
       " 56,\n",
       " 58,\n",
       " 60,\n",
       " 62,\n",
       " 64,\n",
       " 66,\n",
       " 68,\n",
       " 70,\n",
       " 72,\n",
       " 74,\n",
       " 76,\n",
       " 78,\n",
       " 80,\n",
       " 82,\n",
       " 84,\n",
       " 86,\n",
       " 88,\n",
       " 90,\n",
       " 92,\n",
       " 94,\n",
       " 96,\n",
       " 98]"
      ]
     },
     "execution_count": 57,
     "metadata": {},
     "output_type": "execute_result"
    }
   ],
   "source": [
    "mul.collect()\n"
   ]
  },
  {
   "cell_type": "markdown",
   "id": "3b5ba68e-df13-4adf-91bf-e4a7653ab936",
   "metadata": {},
   "source": [
    "## Create Dataframe and get Average Age "
   ]
  },
  {
   "cell_type": "code",
   "execution_count": 58,
   "id": "28d7ac7d-3ce9-4e5d-ae2c-f3c47a8df48d",
   "metadata": {
    "tags": []
   },
   "outputs": [
    {
     "name": "stdout",
     "output_type": "stream",
     "text": [
      "  % Total    % Received % Xferd  Average Speed   Time    Time     Time  Current\n",
      "                                 Dload  Upload   Total   Spent    Left  Speed\n",
      "100   136  100   136    0     0   1942      0 --:--:-- --:--:-- --:--:--  1942\n"
     ]
    }
   ],
   "source": [
    "\n",
    "!curl https://cf-courses-data.s3.us.cloud-object-storage.appdomain.cloud/IBM-BD0225EN-SkillsNetwork/labs/people2.json >> people2.json"
   ]
  },
  {
   "cell_type": "code",
   "execution_count": 66,
   "id": "7929025a-346c-440a-93cc-275ff35c16bf",
   "metadata": {
    "tags": []
   },
   "outputs": [
    {
     "name": "stderr",
     "output_type": "stream",
     "text": [
      "23/08/16 06:10:43 WARN execution.CacheManager: Asked to cache already cached data.\n"
     ]
    }
   ],
   "source": [
    "df2=spark.read.json(\"people2.json\").cache()"
   ]
  },
  {
   "cell_type": "code",
   "execution_count": 68,
   "id": "97ee633f-4f1b-4e31-bb4e-55feababdc94",
   "metadata": {
    "tags": []
   },
   "outputs": [
    {
     "data": {
      "text/plain": [
       "DataFrame[avg(age): double]"
      ]
     },
     "execution_count": 68,
     "metadata": {},
     "output_type": "execute_result"
    }
   ],
   "source": [
    "df2.createTempView(\"people2\")\n",
    "spark.sql(\"select AVG(age) from people2\")"
   ]
  },
  {
   "cell_type": "markdown",
   "id": "789df9dc-4e59-4bea-9c05-8cb1b331369d",
   "metadata": {},
   "source": [
    "## Stop Spark Session"
   ]
  },
  {
   "cell_type": "code",
   "execution_count": 71,
   "id": "b1458ef5-a6ff-4a37-b1c7-b009f8f78bdb",
   "metadata": {
    "tags": []
   },
   "outputs": [],
   "source": [
    "spark.stop()"
   ]
  },
  {
   "cell_type": "code",
   "execution_count": null,
   "id": "44c3d5b3-a842-4b1d-b47a-72ddf635e8c4",
   "metadata": {},
   "outputs": [],
   "source": []
  }
 ],
 "metadata": {
  "kernelspec": {
   "display_name": "Python",
   "language": "python",
   "name": "conda-env-python-py"
  },
  "language_info": {
   "codemirror_mode": {
    "name": "ipython",
    "version": 3
   },
   "file_extension": ".py",
   "mimetype": "text/x-python",
   "name": "python",
   "nbconvert_exporter": "python",
   "pygments_lexer": "ipython3",
   "version": "3.7.12"
  }
 },
 "nbformat": 4,
 "nbformat_minor": 5
}
